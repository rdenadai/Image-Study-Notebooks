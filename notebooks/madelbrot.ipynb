{
  "nbformat": 4,
  "nbformat_minor": 0,
  "metadata": {
    "colab": {
      "name": "madelbrot.ipynb",
      "version": "0.3.2",
      "provenance": [],
      "include_colab_link": true
    },
    "kernelspec": {
      "name": "python3",
      "display_name": "Python 3"
    }
  },
  "cells": [
    {
      "cell_type": "markdown",
      "metadata": {
        "id": "view-in-github",
        "colab_type": "text"
      },
      "source": [
        "[View in Colaboratory](https://colab.research.google.com/github/rdenadai/Image-Study-Notebooks/blob/master/notebooks/madelbrot.ipynb)"
      ]
    },
    {
      "metadata": {
        "id": "zg9hPvDmbY_D",
        "colab_type": "text"
      },
      "cell_type": "markdown",
      "source": [
        "## Mandelbrot\n"
      ]
    },
    {
      "metadata": {
        "id": "RHyVY4OT5Vlh",
        "colab_type": "code",
        "colab": {}
      },
      "cell_type": "code",
      "source": [
        "import numpy as np\n",
        "import matplotlib.pyplot as plt\n",
        "import matplotlib.image as mpimg\n",
        "\n",
        "%matplotlib inline\n",
        "\n",
        "np.warnings.filterwarnings('ignore')"
      ],
      "execution_count": 0,
      "outputs": []
    },
    {
      "metadata": {
        "id": "gtxhf3nm6OLU",
        "colab_type": "code",
        "colab": {
          "base_uri": "https://localhost:8080/",
          "height": 203
        },
        "outputId": "048add08-0201-4b9e-f557-c073760645ce"
      },
      "cell_type": "code",
      "source": [
        "N = 500\n",
        "x, y = np.linspace(-2, 1, N), np.linspace(-1.5, 1.5, N)\n",
        "c = x[:, np.newaxis] + (y[np.newaxis, :] * 1j)\n",
        "z = c\n",
        "\n",
        "mandelbrot = []\n",
        "for i in [2, 3, 4]:\n",
        "    for _ in range(100):\n",
        "        z = z**i + c\n",
        "    mandelbrot.append(np.abs(z))\n",
        "    z = c\n",
        "\n",
        "plt.figure(figsize=(8, 8))\n",
        "for i, mandel in enumerate(mandelbrot):\n",
        "    plt.subplot(3, 3, i+1)\n",
        "    plt.imshow(mandel.T, extent=[-2, 1, -1.5, 1.5], cmap='jet')\n",
        "    plt.grid(False)\n",
        "plt.tight_layout()\n",
        "plt.show()"
      ],
      "execution_count": 56,
      "outputs": [
        {
          "output_type": "display_data",
          "data": {
            "image/png": "[encoded data removed]",
            "text/plain": [
              "<matplotlib.figure.Figure at 0x7f35d1fa3e80>"
            ]
          },
          "metadata": {
            "tags": []
          }
        }
      ]
    },
    {
      "metadata": {
        "id": "6jFnN_Dh6uxp",
        "colab_type": "code",
        "colab": {
          "base_uri": "https://localhost:8080/",
          "height": 378
        },
        "outputId": "667aa75e-4e17-4bc9-8173-4fef15dc1748"
      },
      "cell_type": "code",
      "source": [
        "N = 500\n",
        "x, y = np.linspace(-1, 1, N), np.linspace(-1, 1, N)\n",
        "c = x[:, np.newaxis] + (y[np.newaxis, :] * 1j)\n",
        "z = c\n",
        "for _ in range(100):\n",
        "    z = np.sin(z/c)\n",
        "mandelbrot = np.abs(z)\n",
        "\n",
        "plt.figure(figsize=(6, 6))\n",
        "plt.imshow(mandelbrot.T, extent=[-1, 1, -1, 1], cmap='jet')\n",
        "plt.grid(False)\n",
        "plt.show()"
      ],
      "execution_count": 43,
      "outputs": [
        {
          "output_type": "display_data",
          "data": {
            "image/png": "[encoded data removed]",
            "text/plain": [
              "<matplotlib.figure.Figure at 0x7f35d1ecb438>"
            ]
          },
          "metadata": {
            "tags": []
          }
        }
      ]
    },
    {
      "metadata": {
        "id": "Bx0v7fWyj1hf",
        "colab_type": "code",
        "colab": {}
      },
      "cell_type": "code",
      "source": [
        ""
      ],
      "execution_count": 0,
      "outputs": []
    }
  ]
}